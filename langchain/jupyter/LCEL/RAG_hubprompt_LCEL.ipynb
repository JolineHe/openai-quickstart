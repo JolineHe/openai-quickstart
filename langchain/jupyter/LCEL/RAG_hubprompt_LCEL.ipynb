{
 "cells": [
  {
   "cell_type": "markdown",
   "metadata": {},
   "source": [
    "LCEL for RAG\n",
    "1. 使用其他的线上文档或离线文件，重新构建向量数据库，尝 试 LCEL 构建的 RAG Chain 是否能成功召回。\n",
    "2. 重新设计或在LangChainHub上找一个可用的RAG提示词模板，测试对比两者的召回率和生成质量。"
   ]
  },
  {
   "cell_type": "code",
   "execution_count": 7,
   "metadata": {},
   "outputs": [],
   "source": [
    "from langchain_openai import ChatOpenAI\n",
    "from langchain_chroma import Chroma\n",
    "from langchain_openai import OpenAIEmbeddings\n",
    "from langchain_text_splitters import RecursiveCharacterTextSplitter\n",
    "from langchain_core.prompts import ChatPromptTemplate\n",
    "from langchain_core.runnables import RunnablePassthrough\n",
    "from langchain_community.document_loaders import PyPDFLoader\n",
    "from langchain_core.output_parsers import StrOutputParser\n",
    "from langchain import hub"
   ]
  },
  {
   "cell_type": "code",
   "execution_count": 11,
   "metadata": {},
   "outputs": [],
   "source": [
    "file_path = \"tsla-20231231-gen.pdf\"\n",
    "loader = PyPDFLoader(file_path)\n",
    "docs = loader.load()"
   ]
  },
  {
   "cell_type": "code",
   "execution_count": 42,
   "metadata": {},
   "outputs": [
    {
     "name": "stdout",
     "output_type": "stream",
     "text": [
      "130\n",
      "UNITED\tSTATES\n",
      "SECURITIES\tAND\tEXCHANGE\tCOMMISSION\n",
      "Washington,\tD.C.\t20549\n",
      "FORM\t\n",
      "10-K\n",
      "(Mark\tOne)\n",
      "x\n",
      "ANNUAL\tREPORT\tPURSUANT\tTO\tSECTION\t13\tOR\t15(d)\tOF\tTHE\tSECURITIES\tEXCHANGE\tACT\tOF\t1934\n",
      "For\tthe\tfiscal\tyear\tended\t\n",
      "December\t31\n",
      ",\t2023\n",
      "OR\n",
      "o\n",
      "TRANSITION\tREPORT\tPURSUANT\tTO\tSECTION\t13\tOR\t15(d)\tOF\tTHE\tSECURITIES\t\n",
      "{'source': 'tsla-20231231-gen.pdf', 'page': 0}\n"
     ]
    }
   ],
   "source": [
    "print(len(docs))\n",
    "print(docs[0].page_content[0:300])\n",
    "print(docs[0].metadata)"
   ]
  },
  {
   "cell_type": "code",
   "execution_count": 12,
   "metadata": {},
   "outputs": [],
   "source": [
    "text_splitter = RecursiveCharacterTextSplitter(chunk_size=1000, chunk_overlap=200)\n",
    "splits = text_splitter.split_documents(docs)\n",
    "vectorstore = Chroma.from_documents(documents=splits, embedding=OpenAIEmbeddings())\n",
    "retriever = vectorstore.as_retriever()\n",
    "\n",
    "def format_docs(docs):\n",
    "    return \"\\n\\n\".join(doc.page_content for doc in docs)"
   ]
  },
  {
   "cell_type": "code",
   "execution_count": 13,
   "metadata": {},
   "outputs": [],
   "source": [
    "llm = ChatOpenAI(model=\"gpt-4o-mini\")\n",
    "prompt = hub.pull(\"oogijo/financial-advisor\")"
   ]
  },
  {
   "cell_type": "code",
   "execution_count": 14,
   "metadata": {},
   "outputs": [
    {
     "data": {
      "text/plain": [
       "ChatPromptTemplate(input_variables=['context', 'question'], messages=[SystemMessagePromptTemplate(prompt=PromptTemplate(input_variables=['context'], template=\"You are an assistant for question-answering tasks. Use the following pieces of retrieved context to answer the question. If you don't know the answer, say that you don't know. Use three sentences maximum and keep the answer concise.\\n\\n{context}\")), HumanMessagePromptTemplate(prompt=PromptTemplate(input_variables=['question'], template='{question}'))])"
      ]
     },
     "execution_count": 14,
     "metadata": {},
     "output_type": "execute_result"
    }
   ],
   "source": [
    "prompt"
   ]
  },
  {
   "cell_type": "code",
   "execution_count": 15,
   "metadata": {},
   "outputs": [],
   "source": [
    "# 使用 LCEL 构建 RAG Chain\n",
    "rag_chain = (\n",
    "    {\"context\": retriever | format_docs, \"question\": RunnablePassthrough()}\n",
    "    | prompt\n",
    "    | llm\n",
    "    | StrOutputParser()\n",
    ")"
   ]
  },
  {
   "cell_type": "code",
   "execution_count": 16,
   "metadata": {},
   "outputs": [
    {
     "name": "stdout",
     "output_type": "stream",
     "text": [
      "特斯拉2023财务数据摘要显示，公司的总收入为96,773百万美元，汽车销售收入为78,509百万美元，能源生成和存储收入为6,035百万美元。净收入为14,974百万美元，综合收入为15,215百万美元。总资产达到106,618百万美元。"
     ]
    }
   ],
   "source": [
    "for chunk in rag_chain.stream(\"请给出特斯拉2023财务数据摘要\"):\n",
    "    print(chunk, end=\"\", flush=True)"
   ]
  },
  {
   "cell_type": "code",
   "execution_count": 17,
   "metadata": {},
   "outputs": [
    {
     "name": "stdout",
     "output_type": "stream",
     "text": [
      "特斯拉2023年的财务报告显示，公司的总收入达到96,773百万美元，比2022年的81,462百万美元显著增长，主要得益于汽车销售和能源业务的增长。尽管总收入增加，公司的毛利润下降至17,660百万美元，显示出成本压力。净收入为14,974百万美元，相比2022年的12,587百万美元有所上升，表明公司仍保持盈利增长。"
     ]
    }
   ],
   "source": [
    "for chunk in rag_chain.stream(\"请简要分析特斯拉2023年财务报告。\"):\n",
    "    print(chunk, end=\"\", flush=True)"
   ]
  },
  {
   "cell_type": "code",
   "execution_count": 39,
   "metadata": {},
   "outputs": [
    {
     "name": "stdout",
     "output_type": "stream",
     "text": [
      "特斯拉2023年的盈利能力主要依赖于电动汽车的消费需求和高销量的产品销售。未来可能面临的风险包括竞争激烈的劳动市场、材料供应的波动，以及消费者对电动汽车需求的变化。主要竞争对手包括其他汽车制造商进入电动和替代燃料车辆市场的公司，尤其是在中国和欧洲的市场。"
     ]
    }
   ],
   "source": [
    "for chunk in rag_chain.stream(\"特斯拉2023盈利能力主要表现在哪些方面，将来可能存在的风险和主要竞争对手有哪些？\"):\n",
    "    print(chunk, end=\"\", flush=True)"
   ]
  },
  {
   "cell_type": "markdown",
   "metadata": {},
   "source": [
    "LCELMulti-chain(可选)\n",
    "1. 实现一个多链版本的代码生成，输入功能需求，输出2种(Python，Java)以上编程\n",
    "语言的代码实现"
   ]
  },
  {
   "cell_type": "code",
   "execution_count": 2,
   "metadata": {},
   "outputs": [],
   "source": [
    "from operator import itemgetter\n",
    "from langchain_core.output_parsers import StrOutputParser\n",
    "from langchain_core.prompts import ChatPromptTemplate\n",
    "from langchain_openai import ChatOpenAI\n",
    "from langchain_core.runnables import RunnablePassthrough\n"
   ]
  },
  {
   "cell_type": "code",
   "execution_count": 25,
   "metadata": {},
   "outputs": [],
   "source": [
    "python_coder = (\n",
    "    ChatPromptTemplate.from_template(\n",
    "        \"用Python语言实现{question}\"\n",
    "    )\n",
    "    | ChatOpenAI(model=\"gpt-4o-mini\")\n",
    "    | StrOutputParser()\n",
    ")\n",
    "\n",
    "# 创建反面论证的处理链，列出关于基础回应的反面或不利的方面\n",
    "java_coder = (\n",
    "    ChatPromptTemplate.from_template(\n",
    "        \"用Java语言实现{question}\"\n",
    "    )\n",
    "    | ChatOpenAI(model=\"gpt-4o-mini\")\n",
    "    | StrOutputParser()\n",
    ")\n",
    "\n",
    "# 创建最终响应者，综合原始回应和正反论点生成最终的回应\n",
    "combiner = (\n",
    "    ChatPromptTemplate.from_messages(\n",
    "        [\n",
    "            (\"human\", \"分别用Python和Java编程语言实现同一个问题\"),\n",
    "            (\"system\", \"Python实现:\\n{python_codes}\\n\\nJava实现:\\n{java_codes}\")\n",
    "        ]\n",
    "    )\n",
    "    | ChatOpenAI(model=\"gpt-4o-mini\")\n",
    "    | StrOutputParser()\n",
    ")\n",
    "\n",
    "# 构建完整的处理链，从生成论点到列出正反论点，再到生成最终回应\n",
    "super_coder = (\n",
    "    {\"question\": RunnablePassthrough()}\n",
    "    | {\n",
    "        \"java_codes\": java_coder,\n",
    "        \"python_codes\": python_coder,\n",
    "    }\n",
    "    |combiner\n",
    ")"
   ]
  },
  {
   "cell_type": "code",
   "execution_count": 26,
   "metadata": {},
   "outputs": [
    {
     "data": {
      "text/plain": [
       "{\n",
       "  question: RunnablePassthrough(),\n",
       "  java_codes: ChatPromptTemplate(input_variables=['question'], messages=[HumanMessagePromptTemplate(prompt=PromptTemplate(input_variables=['question'], template='用Java语言实现{question}'))])\n",
       "              | ChatOpenAI(client=<openai.resources.chat.completions.Completions object at 0x10fc586e0>, async_client=<openai.resources.chat.completions.AsyncCompletions object at 0x10fc10e90>, model_name='gpt-4o-mini', openai_api_key=SecretStr('**********'), openai_proxy='')\n",
       "              | StrOutputParser(),\n",
       "  python_codes: ChatPromptTemplate(input_variables=['question'], messages=[HumanMessagePromptTemplate(prompt=PromptTemplate(input_variables=['question'], template='用Python语言实现{question}'))])\n",
       "                | ChatOpenAI(client=<openai.resources.chat.completions.Completions object at 0x10fc49220>, async_client=<openai.resources.chat.completions.AsyncCompletions object at 0x10fc4acc0>, model_name='gpt-4o-mini', openai_api_key=SecretStr('**********'), openai_proxy='')\n",
       "                | StrOutputParser()\n",
       "}\n",
       "| ChatPromptTemplate(input_variables=['java_codes', 'python_codes'], messages=[HumanMessagePromptTemplate(prompt=PromptTemplate(input_variables=[], template='分别用Python和Java编程语言实现同一个问题')), SystemMessagePromptTemplate(prompt=PromptTemplate(input_variables=['java_codes', 'python_codes'], template='Python实现:\\n{python_codes}\\n\\nJava实现:\\n{java_codes}'))])\n",
       "| ChatOpenAI(client=<openai.resources.chat.completions.Completions object at 0x10fc07170>, async_client=<openai.resources.chat.completions.AsyncCompletions object at 0x10fc05700>, model_name='gpt-4o-mini', openai_api_key=SecretStr('**********'), openai_proxy='')\n",
       "| StrOutputParser()"
      ]
     },
     "execution_count": 26,
     "metadata": {},
     "output_type": "execute_result"
    }
   ],
   "source": [
    "super_coder"
   ]
  },
  {
   "cell_type": "code",
   "execution_count": 27,
   "metadata": {},
   "outputs": [],
   "source": [
    "\n",
    "result = super_coder.invoke({\"question\": \"快速排序\"})"
   ]
  },
  {
   "cell_type": "code",
   "execution_count": 28,
   "metadata": {},
   "outputs": [
    {
     "name": "stdout",
     "output_type": "stream",
     "text": [
      "下面是用Python和Java实现快速排序的代码示例，已按照您的要求给出。\n",
      "\n",
      "### Python实现\n",
      "\n",
      "快速排序是一种高效的排序算法，采用分治法策略。以下是用Python实现快速排序的代码示例：\n",
      "\n",
      "```python\n",
      "def quick_sort(arr):\n",
      "    # 如果数组长度小于等于1，直接返回\n",
      "    if len(arr) <= 1:\n",
      "        return arr\n",
      "    else:\n",
      "        # 选择一个基准值，这里选择数组的最后一个元素\n",
      "        pivot = arr[-1]\n",
      "        # 划分出小于基准值和大于基准值的子数组\n",
      "        left = [x for x in arr[:-1] if x <= pivot]\n",
      "        right = [x for x in arr[:-1] if x > pivot]\n",
      "        # 递归排序左边和右边，然后合并结果\n",
      "        return quick_sort(left) + [pivot] + quick_sort(right)\n",
      "\n",
      "# 示例使用\n",
      "if __name__ == \"__main__\":\n",
      "    arr = [3, 6, 8, 10, 1, 2, 1]\n",
      "    sorted_arr = quick_sort(arr)\n",
      "    print(\"排序后的数组:\", sorted_arr)\n",
      "```\n",
      "\n",
      "### Java实现\n",
      "\n",
      "以下是用Java语言实现的快速排序算法：\n",
      "\n",
      "```java\n",
      "public class QuickSort {\n",
      "\n",
      "    // 主方法，用于测试快速排序\n",
      "    public static void main(String[] args) {\n",
      "        int[] array = {10, 7, 8, 9, 1, 5};\n",
      "        System.out.println(\"原始数组: \");\n",
      "        printArray(array);\n",
      "        \n",
      "        quickSort(array, 0, array.length - 1);\n",
      "        \n",
      "        System.out.println(\"排序后的数组: \");\n",
      "        printArray(array);\n",
      "    }\n",
      "\n",
      "    // 快速排序方法\n",
      "    public static void quickSort(int[] array, int low, int high) {\n",
      "        if (low < high) {\n",
      "            // 获取划分后的基准索引\n",
      "            int pivotIndex = partition(array, low, high);\n",
      "            \n",
      "            // 递归排序基准值左侧和右侧的子数组\n",
      "            quickSort(array, low, pivotIndex - 1);\n",
      "            quickSort(array, pivotIndex + 1, high);\n",
      "        }\n",
      "    }\n",
      "\n",
      "    // 划分方法\n",
      "    public static int partition(int[] array, int low, int high) {\n",
      "        // 选择最后一个元素作为基准\n",
      "        int pivot = array[high];\n",
      "        int i = (low - 1); // 小于基准的元素索引\n",
      "        \n",
      "        for (int j = low; j < high; j++) {\n",
      "            // 如果当前元素小于或等于基准\n",
      "            if (array[j] <= pivot) {\n",
      "                i++;\n",
      "                // 交换元素\n",
      "                swap(array, i, j);\n",
      "            }\n",
      "        }\n",
      "        // 将基准元素放到正确的位置\n",
      "        swap(array, i + 1, high);\n",
      "        return i + 1; // 返回基准索引\n",
      "    }\n",
      "\n",
      "    // 交换数组中的两个元素\n",
      "    public static void swap(int[] array, int i, int j) {\n",
      "        int temp = array[i];\n",
      "        array[i] = array[j];\n",
      "        array[j] = temp;\n",
      "    }\n",
      "\n",
      "    // 打印数组\n",
      "    public static void printArray(int[] array) {\n",
      "        for (int value : array) {\n",
      "            System.out.print(value + \" \");\n",
      "        }\n",
      "        System.out.println();\n",
      "    }\n",
      "}\n",
      "```\n",
      "\n",
      "### 代码说明\n",
      "\n",
      "#### Python代码说明：\n",
      "1. `quick_sort` 函数接受一个数组 `arr` 作为参数。\n",
      "2. 如果数组长度小于等于1，则直接返回该数组，因为它已经是排好序的。\n",
      "3. 选择数组的最后一个元素作为基准值（pivot）。\n",
      "4. 使用列表推导式将数组划分为两个子数组：一个包含所有小于或等于基准值的元素（left），另一个包含所有大于基准值的元素（right）。\n",
      "5. 递归地对左右子数组进行快速排序，并将结果合并为一个排序好的数组。\n",
      "\n",
      "#### Java代码说明：\n",
      "1. **quickSort方法**：实现快速排序的核心逻辑。它接收数组及其低、高索引作为参数，递归地对数组进行排序。\n",
      "2. **partition方法**：根据选定的基准值（这里选择最后一个元素），将数组分为两部分，小于等于基准的元素在左侧，大于基准的元素在右侧，并返回基准的最终位置。\n",
      "3. **swap方法**：用于交换数组中的两个元素。\n",
      "4. **printArray方法**：用于打印数组内容。\n",
      "\n",
      "### 使用：\n",
      "- Python代码可直接在Python环境中运行。\n",
      "- Java代码可在Java IDE中运行，`main`方法中提供了一个示例数组，您可以修改这个数组以测试不同的输入。\n"
     ]
    }
   ],
   "source": [
    "print(result)"
   ]
  }
 ],
 "metadata": {
  "kernelspec": {
   "display_name": "Python 3",
   "language": "python",
   "name": "python3"
  },
  "language_info": {
   "codemirror_mode": {
    "name": "ipython",
    "version": 3
   },
   "file_extension": ".py",
   "mimetype": "text/x-python",
   "name": "python",
   "nbconvert_exporter": "python",
   "pygments_lexer": "ipython3",
   "version": "3.12.4"
  }
 },
 "nbformat": 4,
 "nbformat_minor": 2
}
